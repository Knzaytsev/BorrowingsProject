{
  "nbformat": 4,
  "nbformat_minor": 0,
  "metadata": {
    "colab": {
      "name": "Python проект",
      "provenance": [],
      "collapsed_sections": []
    },
    "kernelspec": {
      "name": "python3",
      "display_name": "Python 3"
    },
    "language_info": {
      "name": "python"
    }
  },
  "cells": [
    {
      "cell_type": "code",
      "source": [
        "import pandas as pd\n",
        "import numpy as np\n",
        "from scipy.sparse import lil_matrix"
      ],
      "metadata": {
        "id": "AGJxTCbKnilg"
      },
      "execution_count": null,
      "outputs": []
    },
    {
      "cell_type": "code",
      "source": [
        "# 1. Класс генератора слов (алфавит, н-граммы)\n",
        "# 2. Класс н-грамм\n",
        "# 3. Класс подсчёта перплексий (?)\n",
        "# 4. Статистический класс (?)\n",
        "# 5. Класс обучения и выполнения модели (не только регрессия, но и остальные модели)\n",
        "# 6. Класс перплексий\n",
        "\n",
        "# Мб использовать стороннюю библиотеку для токенизации (создания n-грамм)\n",
        "# Сторонняя библиотека для тестов (PyTest)\n",
        "# Мб применить ради интереса нейросеть (или написать модуль обучения просто)"
      ],
      "metadata": {
        "id": "Kn3HxFtP3JkY"
      },
      "execution_count": null,
      "outputs": []
    },
    {
      "cell_type": "code",
      "source": [
        "from abc import abstractmethod"
      ],
      "metadata": {
        "id": "wnTvSD9O2yKS"
      },
      "execution_count": null,
      "outputs": []
    },
    {
      "cell_type": "code",
      "source": [
        "# Можно протестить тестами всякие соответствия типов"
      ],
      "metadata": {
        "id": "6efQKhoaVLA6"
      },
      "execution_count": null,
      "outputs": []
    },
    {
      "cell_type": "code",
      "source": [
        "class SpecificTypeError(TypeError):\n",
        "  def __init__(self, real_type, expected_type):\n",
        "    message = f'{expected_type} expected instead of {real_type}'\n",
        "    super().__init__(message)"
      ],
      "metadata": {
        "id": "kpxSau2tSE2q"
      },
      "execution_count": null,
      "outputs": []
    },
    {
      "cell_type": "code",
      "source": [
        "class EmptyError(ValueError):\n",
        "  def __init__(self, type_object):\n",
        "    message = f'{type_object} is empty'\n",
        "    super().__init__(message)"
      ],
      "metadata": {
        "id": "3mW_zdL1TO3h"
      },
      "execution_count": null,
      "outputs": []
    },
    {
      "cell_type": "code",
      "source": [
        "# Есть какой-то алфавит\n",
        "# Есть метод генерации слов\n",
        "\n",
        "class WordGenerator:\n",
        "  _words = []\n",
        "\n",
        "  def __init__(self, words):\n",
        "    if not (type(words) is list):\n",
        "      raise SpecificTypeError(type(words).__name__, list.__name__)\n",
        "    self._words = words\n",
        "  \n",
        "  @abstractmethod\n",
        "  def generate_word(self):\n",
        "    pass"
      ],
      "metadata": {
        "id": "IrYjidf4ze52"
      },
      "execution_count": null,
      "outputs": []
    },
    {
      "cell_type": "code",
      "source": [
        "from collections import Counter\n",
        "from random import randint\n",
        "\n",
        "class RandomAlphabetGenerator(WordGenerator):\n",
        "  _alphabet = []\n",
        "  _max_len = -1\n",
        "  _min_len = -1\n",
        "\n",
        "  def __init__(self, words, min_len, max_len):\n",
        "    WordGenerator.__init__(self, words)\n",
        "    self._min_len = min_len\n",
        "    self._max_len = max_len\n",
        "\n",
        "  def make_alphabet(self):\n",
        "    self._alphabet = []\n",
        "\n",
        "    for word in self._words:\n",
        "      self._alphabet.extend([letter.lower() for letter in word])\n",
        "\n",
        "    self._alphabet = list(Counter(self._alphabet).keys())\n",
        "  \n",
        "  def generate_word(self):\n",
        "    if len(self._alphabet) == 0:\n",
        "      raise EmptyError(type(self._alphabet).__name__)\n",
        "\n",
        "    letters_list = []\n",
        "\n",
        "    rand_len = randint(self._min_len, self._max_len)\n",
        "\n",
        "    for i in range(rand_len):\n",
        "      rand_letter = randint(0, len(self._alphabet) - 1)\n",
        "      letters_list.append(self._alphabet[rand_letter])\n",
        "\n",
        "    return ''.join(letters_list)"
      ],
      "metadata": {
        "id": "VgP97WHO2mFC"
      },
      "execution_count": null,
      "outputs": []
    },
    {
      "cell_type": "code",
      "source": [
        "class Matrix:\n",
        "  __matrix = lil_matrix\n",
        "\n",
        "  def __init__(self, matrix):\n",
        "    self.__matrix = matrix\n",
        "\n",
        "  def __getitem__(self, row):\n",
        "    return self.__matrix.getrow(row).toarray()"
      ],
      "metadata": {
        "id": "o8U9YqYQOrah"
      },
      "execution_count": null,
      "outputs": []
    },
    {
      "cell_type": "code",
      "source": [
        "# Протестить корректность составления n-gram\n",
        "\n",
        "class Ngrammer:\n",
        "\n",
        "  @staticmethod\n",
        "  def make_ngram( tokens, n):\n",
        "    ngrams = []\n",
        "    for i in range(0, len(tokens) - n + 1):\n",
        "        ngrams.append(' '.join(tokens[i:i + n]))\n",
        "    return ngrams"
      ],
      "metadata": {
        "id": "3K5J06PanAx7"
      },
      "execution_count": null,
      "outputs": []
    },
    {
      "cell_type": "code",
      "source": [
        "class AbstractNgramModel:\n",
        "  _n = int\n",
        "  _words = list\n",
        "  _matrix = Matrix\n",
        "  _rows = list\n",
        "  _cols = list\n",
        "  _rows_id = dict\n",
        "  _cols_id = dict\n",
        "  _ngrams = list\n",
        "\n",
        "  @property\n",
        "  def get_matrix(self):\n",
        "    return self._matrix\n",
        "\n",
        "  @property\n",
        "  def get_rows(self):\n",
        "    return self._rows\n",
        "\n",
        "  @property\n",
        "  def get_cols(self):\n",
        "    return self._cols\n",
        "\n",
        "  @property\n",
        "  def get_rows_id(self):\n",
        "    return self._rows_id\n",
        "\n",
        "  @property\n",
        "  def get_cols_id(self):\n",
        "    return self._cols_id\n",
        "\n",
        "  @property\n",
        "  def get_ngrams(self):\n",
        "    return self._ngrams\n",
        "\n",
        "  def __init__(self, n, words):\n",
        "    if not (type(words) is list):\n",
        "      raise ValueError(f'List expected instead of {type(words).__name__}.')\n",
        "    self._n = n\n",
        "    self._words = words\n",
        "\n",
        "  def _make_ngrams(self, tokens, n):\n",
        "    return Ngrammer.make_ngram(tokens, n)\n",
        "\n",
        "  @abstractmethod\n",
        "  def make_model(self):\n",
        "    pass"
      ],
      "metadata": {
        "id": "8Ap-_d3Y8ev1"
      },
      "execution_count": null,
      "outputs": []
    },
    {
      "cell_type": "code",
      "source": [
        "class NgramModelCreator:\n",
        "  __n = -1\n",
        "  __words = list\n",
        "\n",
        "  def __init__(self, n, words):\n",
        "    if not(type(n) is int):\n",
        "      raise ValueError(f'List expected instead of {type(n).__name__}')\n",
        "    self.__n = n\n",
        "    self.__words = words\n",
        "\n",
        "  @property\n",
        "  def get_model(self) -> AbstractNgramModel:\n",
        "    if self.__n == 1:\n",
        "      return UnigramModel(self.__n, self.__words)\n",
        "    else:\n",
        "      return NgramModel(self.__n, self.__words)"
      ],
      "metadata": {
        "id": "z7TSsWwO8AZE"
      },
      "execution_count": null,
      "outputs": []
    },
    {
      "cell_type": "code",
      "source": [
        "class UnigramModel(AbstractNgramModel):\n",
        "\n",
        "  def __init__(self, words):\n",
        "    AbstractNgramModel.__init__(self, words)\n",
        "\n",
        "  def make_model(self):\n",
        "    raise ValueError('This method is not implemented.')"
      ],
      "metadata": {
        "id": "zLFzcgVDB8RC"
      },
      "execution_count": null,
      "outputs": []
    },
    {
      "cell_type": "code",
      "source": [
        "# Мб проверить статистические штуки у нграм\n",
        "\n",
        "class NgramModel(AbstractNgramModel):\n",
        "\n",
        "  def __init__(self, n, words):\n",
        "    AbstractNgramModel.__init__(self, n, words)\n",
        "\n",
        "  def make_model(self):\n",
        "    self._ngrams = [Counter() for i in range(self._n)]\n",
        "\n",
        "    self._ngrams = self.__generate_ngrams_list(self._ngrams, self._n)\n",
        "\n",
        "    self._rows = list(self._ngrams[-2])\n",
        "    self._rows_id = {gram: i for i, gram in enumerate(self._rows)}\n",
        "    self._cols = list(self._ngrams[0])\n",
        "    self._cols_id = {word: i for i, word in enumerate(self._cols)}\n",
        "\n",
        "    self._matrix = self.__fill_matrix(self._n)\n",
        "\n",
        "  def __generate_ngrams_list(self, ngrams, n):\n",
        "    for word in self._words:\n",
        "      ngrams[0].update(word)\n",
        "      for i in range(2, n+1):\n",
        "        ngrams[i-1].update(self._make_ngrams(word, n=i))\n",
        "    return ngrams\n",
        "\n",
        "  def __fill_matrix(self, n):\n",
        "    all_matrix = lil_matrix((len(self._ngrams[-2]), \n",
        "                         len(self._ngrams[0])),)\n",
        "\n",
        "    for ngram in self._ngrams[-1]:\n",
        "        phrase = ngram.split()\n",
        "\n",
        "        all_matrix[self._rows_id[' '.join(phrase[:n-1])], self._cols_id[phrase[-1]]] =  (self._ngrams[n-1][ngram]/\n",
        "                                                                        self._ngrams[n-2][' '.join(phrase[:n-1])])\n",
        "    \n",
        "    return Matrix(all_matrix)"
      ],
      "metadata": {
        "id": "SZKYT7-cDkGQ"
      },
      "execution_count": null,
      "outputs": []
    },
    {
      "cell_type": "code",
      "source": [
        "class NgramWordGenerator(WordGenerator):\n",
        "  _ngrams = AbstractNgramModel\n",
        "\n",
        "  @property\n",
        "  def get_ngrams(self):\n",
        "    return self._ngrams\n",
        "\n",
        "  @get_ngrams.setter\n",
        "  def set_ngrams(self, value):\n",
        "    if not(type(value) is AbstractNgramModel):\n",
        "      raise ValueError(f'List expected instead of {type(value).__name__}.')\n",
        "    self._ngrams = value\n",
        "\n",
        "  def __init__(self, words, ngrams):\n",
        "    WordGenerator.__init__(self, words)\n",
        "    if not(type(ngrams) is AbstractNgramModel):\n",
        "      raise ValueError(f'List expected instead of {type(words).__name__}.')\n",
        "    self._ngrams = ngrams\n",
        "\n",
        "  def generate_word(self):\n",
        "    word = []\n",
        "    start_words = ['<start>'] * (len(self._ngrams.get_ngrams()) - 1)\n",
        "    rows = self._ngrams.get_rows()\n",
        "    cols = self._ngrams.get_cols()\n",
        "    rows_id = self._ngrams.get_rows_id()\n",
        "    matrix = self._get_matrix()\n",
        "    current_idx = rows_id[start_words]\n",
        "    while True:\n",
        "        chosen = np.random.choice(matrix[current_idx].shape[1], p=matrix[current_idx].toarray()[0])\n",
        "        word.append(cols[chosen])\n",
        "        if cols[chosen] == '<end>':\n",
        "            return ''.join(word)"
      ],
      "metadata": {
        "id": "VyTa9VFg6wMe"
      },
      "execution_count": null,
      "outputs": []
    },
    {
      "cell_type": "code",
      "source": [
        "# Проверить корректность вычисления перплексии\n",
        "\n",
        "class PerplexityMetric:\n",
        "  __words = list\n",
        "  __ngrams = list\n",
        "  __n = int\n",
        "\n",
        "  def __init__(self, words, ngrams):\n",
        "    self.__words = words\n",
        "    self.__ngrams = ngrams\n",
        "    self.__n = len(self.__ngrams)\n",
        "\n",
        "  def __perplexity(self, probas):\n",
        "    p = np.exp(np.sum(probas))\n",
        "    N = len(probas)\n",
        "\n",
        "    return p**(-1/N)\n",
        "\n",
        "  def compute_perplexity(self):\n",
        "    perplexities = []\n",
        "\n",
        "    for word in self.__words:\n",
        "      if len(word) <= self.__n-1:\n",
        "        perplexities.append(np.mean(perplexities + [1]))\n",
        "        continue\n",
        "\n",
        "      prob = []\n",
        "      \n",
        "      for ngram in Ngrammer.make_ngram(word, n=self.__n):\n",
        "          phrase = ngram.split()\n",
        "\n",
        "          if ngram in self.__ngrams[-1]:\n",
        "              if self.__n == 1:\n",
        "                prob.append(np.log(self.__ngrams[0][ngram]/self.__ngrams[0][phrase[0]]))\n",
        "              else:\n",
        "                prob.append(np.log(self.__ngrams[-1][ngram]/self.__ngrams[self.__n-2][' '.join(phrase[:self.__n-1])]))\n",
        "          else:\n",
        "              prob.append(np.log(0.00001))\n",
        "      \n",
        "      perplexities.append(self.__perplexity(prob))\n",
        "\n",
        "    return perplexities"
      ],
      "metadata": {
        "id": "a3iLhKc-uRd2"
      },
      "execution_count": null,
      "outputs": []
    },
    {
      "cell_type": "code",
      "execution_count": null,
      "metadata": {
        "id": "pLrpQrialulS",
        "colab": {
          "base_uri": "https://localhost:8080/"
        },
        "outputId": "5b78c571-046b-4b12-9be9-18b5df924f58"
      },
      "outputs": [
        {
          "output_type": "stream",
          "name": "stdout",
          "text": [
            "--2022-03-15 15:52:09--  https://raw.githubusercontent.com/phon-dicts-project/comparative_andic_dictionary_database/master/andic_dicts.csv\n",
            "Resolving raw.githubusercontent.com (raw.githubusercontent.com)... 185.199.108.133, 185.199.109.133, 185.199.110.133, ...\n",
            "Connecting to raw.githubusercontent.com (raw.githubusercontent.com)|185.199.108.133|:443... connected.\n",
            "HTTP request sent, awaiting response... 200 OK\n",
            "Length: 40145266 (38M) [text/plain]\n",
            "Saving to: ‘andic_dicts.csv’\n",
            "\n",
            "andic_dicts.csv     100%[===================>]  38.29M   199MB/s    in 0.2s    \n",
            "\n",
            "2022-03-15 15:52:11 (199 MB/s) - ‘andic_dicts.csv’ saved [40145266/40145266]\n",
            "\n"
          ]
        }
      ],
      "source": [
        "!wget https://raw.githubusercontent.com/phon-dicts-project/comparative_andic_dictionary_database/master/andic_dicts.csv"
      ]
    },
    {
      "cell_type": "code",
      "source": [
        "!wget https://github.com/DashaChis/comparative_andic_dictionary_database/raw/master/andic_dicts_version_for_borrowings_annotation.xlsx"
      ],
      "metadata": {
        "colab": {
          "base_uri": "https://localhost:8080/"
        },
        "id": "Fir3vUeOITsm",
        "outputId": "6b5ba0f4-eeb6-44f9-c178-4a77d9479ed7"
      },
      "execution_count": null,
      "outputs": [
        {
          "output_type": "stream",
          "name": "stdout",
          "text": [
            "--2022-03-15 15:52:12--  https://github.com/DashaChis/comparative_andic_dictionary_database/raw/master/andic_dicts_version_for_borrowings_annotation.xlsx\n",
            "Resolving github.com (github.com)... 192.30.255.113\n",
            "Connecting to github.com (github.com)|192.30.255.113|:443... connected.\n",
            "HTTP request sent, awaiting response... 302 Found\n",
            "Location: https://raw.githubusercontent.com/DashaChis/comparative_andic_dictionary_database/master/andic_dicts_version_for_borrowings_annotation.xlsx [following]\n",
            "--2022-03-15 15:52:12--  https://raw.githubusercontent.com/DashaChis/comparative_andic_dictionary_database/master/andic_dicts_version_for_borrowings_annotation.xlsx\n",
            "Resolving raw.githubusercontent.com (raw.githubusercontent.com)... 185.199.108.133, 185.199.109.133, 185.199.110.133, ...\n",
            "Connecting to raw.githubusercontent.com (raw.githubusercontent.com)|185.199.108.133|:443... connected.\n",
            "HTTP request sent, awaiting response... 200 OK\n",
            "Length: 8577758 (8.2M) [application/octet-stream]\n",
            "Saving to: ‘andic_dicts_version_for_borrowings_annotation.xlsx’\n",
            "\n",
            "andic_dicts_version 100%[===================>]   8.18M  --.-KB/s    in 0.06s   \n",
            "\n",
            "2022-03-15 15:52:13 (131 MB/s) - ‘andic_dicts_version_for_borrowings_annotation.xlsx’ saved [8577758/8577758]\n",
            "\n"
          ]
        }
      ]
    },
    {
      "cell_type": "code",
      "source": [
        "df1 = pd.read_csv('andic_dicts.csv')\n",
        "df2 = pd.read_excel('andic_dicts_version_for_borrowings_annotation.xlsx')"
      ],
      "metadata": {
        "colab": {
          "base_uri": "https://localhost:8080/"
        },
        "id": "UvAGP1A9nn08",
        "outputId": "aaf41e51-6b9d-4c94-e94b-1d81519d803b"
      },
      "execution_count": null,
      "outputs": [
        {
          "output_type": "stream",
          "name": "stderr",
          "text": [
            "/usr/local/lib/python3.7/dist-packages/IPython/core/interactiveshell.py:2882: DtypeWarning: Columns (16) have mixed types.Specify dtype option on import or set low_memory=False.\n",
            "  exec(code_obj, self.user_global_ns, self.user_ns)\n"
          ]
        }
      ]
    },
    {
      "cell_type": "code",
      "source": [
        "df = pd.merge(df1, df2, how=\"left\", on=[\"id\"])"
      ],
      "metadata": {
        "id": "Y2bnY79kIueV"
      },
      "execution_count": null,
      "outputs": []
    },
    {
      "cell_type": "code",
      "source": [
        "df = df[df['glottocode'] != 'toki1238']"
      ],
      "metadata": {
        "id": "aTtfSKLiZe7G"
      },
      "execution_count": null,
      "outputs": []
    },
    {
      "cell_type": "code",
      "source": [
        "preprocessed_lemmas = df['lemma'].str.replace(' ', '#')"
      ],
      "metadata": {
        "id": "QKru0jkeqe00"
      },
      "execution_count": null,
      "outputs": []
    },
    {
      "cell_type": "code",
      "source": [
        "# Проверить корректность реплейсера\n",
        "\n",
        "class Preprocessor:\n",
        "  __words = list\n",
        "\n",
        "  @property\n",
        "  def get_words(self):\n",
        "    return self.__words\n",
        "\n",
        "  def __init__(self, words):\n",
        "    self.__words = words\n",
        "\n",
        "  def replace_spaces(self, replacer='#'):\n",
        "    self.__words = list(map(lambda x: x.replace(' ', replacer), self.__words))\n",
        "    return self"
      ],
      "metadata": {
        "id": "hRomwoLrSukL"
      },
      "execution_count": null,
      "outputs": []
    },
    {
      "cell_type": "code",
      "source": [
        "# Сделать класс для препроцессинга\n",
        "words = pd.Series([word for word in [[letter for letter in letters.lower()] for letters in preprocessed_lemmas]])"
      ],
      "metadata": {
        "id": "lEv6xYJdC4HK"
      },
      "execution_count": null,
      "outputs": []
    },
    {
      "cell_type": "code",
      "source": [
        "class DfPerplexityCreator:\n",
        "    __df = pd.DataFrame\n",
        "\n",
        "    def __init__(self, origin_df, lang_column, language):\n",
        "      self.__df = origin_df[origin_df[lang_column] == language]\n",
        "\n",
        "    def get_perplexity_column(self, n, words_column, target_column, condition):\n",
        "      if condition == '~':\n",
        "        words_serie = self.__df[~self.__df[target_column].isnull()][words_column].str.replace(' ', '#').str.lower()\n",
        "      else:\n",
        "        words_serie = self.__df[self.__df[target_column].isnull()][words_column].str.replace(' ', '#').str.lower()\n",
        "      \n",
        "      model = NgramModelCreator(n, list(self.__df[words_column].str.replace(' ', '#').str.lower())).get_model\n",
        "      model.make_model()\n",
        "      metric = PerplexityMetric(list(words_serie), model.get_ngrams)\n",
        "      words_serie = pd.Series(metric.compute_perplexity(), index=words_serie.index)\n",
        "      return words_serie"
      ],
      "metadata": {
        "id": "rlrGTSVCukMq"
      },
      "execution_count": null,
      "outputs": []
    },
    {
      "cell_type": "code",
      "source": [
        "perps_df = df[['glottocode', 'lemma', 'bor_y']]\n",
        "for i in range(2, 5):\n",
        "  series = pd.Series()\n",
        "  for language in perps_df['glottocode'].unique():\n",
        "    df_creator = DfPerplexityCreator(perps_df, 'glottocode', language)\n",
        "    series = series.append(df_creator.get_perplexity_column(i, 'lemma', 'bor_y', '~'))\n",
        "    series = series.append(df_creator.get_perplexity_column(i, 'lemma', 'bor_y', ''))\n",
        "  perps_df[f'{i}_gram'] = series"
      ],
      "metadata": {
        "colab": {
          "base_uri": "https://localhost:8080/"
        },
        "id": "Q8OcgslCv6oC",
        "outputId": "537b42f8-2cd0-45eb-eeaf-b0381b963245"
      },
      "execution_count": null,
      "outputs": [
        {
          "output_type": "stream",
          "name": "stderr",
          "text": [
            "/usr/local/lib/python3.7/dist-packages/ipykernel_launcher.py:3: DeprecationWarning: The default dtype for empty Series will be 'object' instead of 'float64' in a future version. Specify a dtype explicitly to silence this warning.\n",
            "  This is separate from the ipykernel package so we can avoid doing imports until\n",
            "/usr/local/lib/python3.7/dist-packages/ipykernel_launcher.py:8: SettingWithCopyWarning: \n",
            "A value is trying to be set on a copy of a slice from a DataFrame.\n",
            "Try using .loc[row_indexer,col_indexer] = value instead\n",
            "\n",
            "See the caveats in the documentation: https://pandas.pydata.org/pandas-docs/stable/user_guide/indexing.html#returning-a-view-versus-a-copy\n",
            "  \n"
          ]
        }
      ]
    },
    {
      "cell_type": "code",
      "source": [
        "perps_df['is_borrowing'] = ~perps_df['bor_y'].isnull()\n",
        "perps_df = perps_df.drop(columns=['bor_y'])"
      ],
      "metadata": {
        "colab": {
          "base_uri": "https://localhost:8080/"
        },
        "id": "ssFBNWco5bzp",
        "outputId": "9e5147a8-af2c-4261-92c2-512879b59edd"
      },
      "execution_count": null,
      "outputs": [
        {
          "output_type": "stream",
          "name": "stderr",
          "text": [
            "/usr/local/lib/python3.7/dist-packages/ipykernel_launcher.py:1: SettingWithCopyWarning: \n",
            "A value is trying to be set on a copy of a slice from a DataFrame.\n",
            "Try using .loc[row_indexer,col_indexer] = value instead\n",
            "\n",
            "See the caveats in the documentation: https://pandas.pydata.org/pandas-docs/stable/user_guide/indexing.html#returning-a-view-versus-a-copy\n",
            "  \"\"\"Entry point for launching an IPython kernel.\n"
          ]
        }
      ]
    },
    {
      "cell_type": "code",
      "source": [
        "perps_df"
      ],
      "metadata": {
        "colab": {
          "base_uri": "https://localhost:8080/",
          "height": 423
        },
        "id": "aJt1s-dK8-Em",
        "outputId": "61025021-70ef-4c5e-e69e-d3e46d0bc7ef"
      },
      "execution_count": null,
      "outputs": [
        {
          "output_type": "execute_result",
          "data": {
            "text/plain": [
              "      glottocode           lemma     2_gram    3_gram     4_gram  is_borrowing\n",
              "0       akhv1239       аба'далIи   9.760974  5.032016   4.194379          True\n",
              "1       akhv1239       а/б/а'жве  11.465609  5.569418  12.236584         False\n",
              "2       akhv1239  а/б/ажу'рулъIа   5.373334  3.370534   3.141429         False\n",
              "3       akhv1239  а/б/ажу'рулъIа   5.373334  3.370534   3.141429         False\n",
              "4       akhv1239  а/б/ажу'рулъIа   5.373334  3.370534   3.141429         False\n",
              "...          ...             ...        ...       ...        ...           ...\n",
              "89831   tind1238       Э́ЛĀЙЛЪ’А   5.559140  3.364785   1.332971         False\n",
              "89832   tind1238        Э̄́ЛЪ’А¹   9.817690  2.504750   2.272958         False\n",
              "89833   tind1238        Э̄́ЛЪ’А¹   9.817690  2.504750   2.272958         False\n",
              "89834   tind1238        Э̄̀ЛЪ’А²  10.259337  2.838383   2.342888         False\n",
              "89835   tind1238        Э̄̀ЙЛЪ’А   9.239461  1.944895   1.159625         False\n",
              "\n",
              "[89835 rows x 6 columns]"
            ],
            "text/html": [
              "\n",
              "  <div id=\"df-9b6e5c5e-b28d-45e0-b491-ca5709a3014b\">\n",
              "    <div class=\"colab-df-container\">\n",
              "      <div>\n",
              "<style scoped>\n",
              "    .dataframe tbody tr th:only-of-type {\n",
              "        vertical-align: middle;\n",
              "    }\n",
              "\n",
              "    .dataframe tbody tr th {\n",
              "        vertical-align: top;\n",
              "    }\n",
              "\n",
              "    .dataframe thead th {\n",
              "        text-align: right;\n",
              "    }\n",
              "</style>\n",
              "<table border=\"1\" class=\"dataframe\">\n",
              "  <thead>\n",
              "    <tr style=\"text-align: right;\">\n",
              "      <th></th>\n",
              "      <th>glottocode</th>\n",
              "      <th>lemma</th>\n",
              "      <th>2_gram</th>\n",
              "      <th>3_gram</th>\n",
              "      <th>4_gram</th>\n",
              "      <th>is_borrowing</th>\n",
              "    </tr>\n",
              "  </thead>\n",
              "  <tbody>\n",
              "    <tr>\n",
              "      <th>0</th>\n",
              "      <td>akhv1239</td>\n",
              "      <td>аба'далIи</td>\n",
              "      <td>9.760974</td>\n",
              "      <td>5.032016</td>\n",
              "      <td>4.194379</td>\n",
              "      <td>True</td>\n",
              "    </tr>\n",
              "    <tr>\n",
              "      <th>1</th>\n",
              "      <td>akhv1239</td>\n",
              "      <td>а/б/а'жве</td>\n",
              "      <td>11.465609</td>\n",
              "      <td>5.569418</td>\n",
              "      <td>12.236584</td>\n",
              "      <td>False</td>\n",
              "    </tr>\n",
              "    <tr>\n",
              "      <th>2</th>\n",
              "      <td>akhv1239</td>\n",
              "      <td>а/б/ажу'рулъIа</td>\n",
              "      <td>5.373334</td>\n",
              "      <td>3.370534</td>\n",
              "      <td>3.141429</td>\n",
              "      <td>False</td>\n",
              "    </tr>\n",
              "    <tr>\n",
              "      <th>3</th>\n",
              "      <td>akhv1239</td>\n",
              "      <td>а/б/ажу'рулъIа</td>\n",
              "      <td>5.373334</td>\n",
              "      <td>3.370534</td>\n",
              "      <td>3.141429</td>\n",
              "      <td>False</td>\n",
              "    </tr>\n",
              "    <tr>\n",
              "      <th>4</th>\n",
              "      <td>akhv1239</td>\n",
              "      <td>а/б/ажу'рулъIа</td>\n",
              "      <td>5.373334</td>\n",
              "      <td>3.370534</td>\n",
              "      <td>3.141429</td>\n",
              "      <td>False</td>\n",
              "    </tr>\n",
              "    <tr>\n",
              "      <th>...</th>\n",
              "      <td>...</td>\n",
              "      <td>...</td>\n",
              "      <td>...</td>\n",
              "      <td>...</td>\n",
              "      <td>...</td>\n",
              "      <td>...</td>\n",
              "    </tr>\n",
              "    <tr>\n",
              "      <th>89831</th>\n",
              "      <td>tind1238</td>\n",
              "      <td>Э́ЛĀЙЛЪ’А</td>\n",
              "      <td>5.559140</td>\n",
              "      <td>3.364785</td>\n",
              "      <td>1.332971</td>\n",
              "      <td>False</td>\n",
              "    </tr>\n",
              "    <tr>\n",
              "      <th>89832</th>\n",
              "      <td>tind1238</td>\n",
              "      <td>Э̄́ЛЪ’А¹</td>\n",
              "      <td>9.817690</td>\n",
              "      <td>2.504750</td>\n",
              "      <td>2.272958</td>\n",
              "      <td>False</td>\n",
              "    </tr>\n",
              "    <tr>\n",
              "      <th>89833</th>\n",
              "      <td>tind1238</td>\n",
              "      <td>Э̄́ЛЪ’А¹</td>\n",
              "      <td>9.817690</td>\n",
              "      <td>2.504750</td>\n",
              "      <td>2.272958</td>\n",
              "      <td>False</td>\n",
              "    </tr>\n",
              "    <tr>\n",
              "      <th>89834</th>\n",
              "      <td>tind1238</td>\n",
              "      <td>Э̄̀ЛЪ’А²</td>\n",
              "      <td>10.259337</td>\n",
              "      <td>2.838383</td>\n",
              "      <td>2.342888</td>\n",
              "      <td>False</td>\n",
              "    </tr>\n",
              "    <tr>\n",
              "      <th>89835</th>\n",
              "      <td>tind1238</td>\n",
              "      <td>Э̄̀ЙЛЪ’А</td>\n",
              "      <td>9.239461</td>\n",
              "      <td>1.944895</td>\n",
              "      <td>1.159625</td>\n",
              "      <td>False</td>\n",
              "    </tr>\n",
              "  </tbody>\n",
              "</table>\n",
              "<p>89835 rows × 6 columns</p>\n",
              "</div>\n",
              "      <button class=\"colab-df-convert\" onclick=\"convertToInteractive('df-9b6e5c5e-b28d-45e0-b491-ca5709a3014b')\"\n",
              "              title=\"Convert this dataframe to an interactive table.\"\n",
              "              style=\"display:none;\">\n",
              "        \n",
              "  <svg xmlns=\"http://www.w3.org/2000/svg\" height=\"24px\"viewBox=\"0 0 24 24\"\n",
              "       width=\"24px\">\n",
              "    <path d=\"M0 0h24v24H0V0z\" fill=\"none\"/>\n",
              "    <path d=\"M18.56 5.44l.94 2.06.94-2.06 2.06-.94-2.06-.94-.94-2.06-.94 2.06-2.06.94zm-11 1L8.5 8.5l.94-2.06 2.06-.94-2.06-.94L8.5 2.5l-.94 2.06-2.06.94zm10 10l.94 2.06.94-2.06 2.06-.94-2.06-.94-.94-2.06-.94 2.06-2.06.94z\"/><path d=\"M17.41 7.96l-1.37-1.37c-.4-.4-.92-.59-1.43-.59-.52 0-1.04.2-1.43.59L10.3 9.45l-7.72 7.72c-.78.78-.78 2.05 0 2.83L4 21.41c.39.39.9.59 1.41.59.51 0 1.02-.2 1.41-.59l7.78-7.78 2.81-2.81c.8-.78.8-2.07 0-2.86zM5.41 20L4 18.59l7.72-7.72 1.47 1.35L5.41 20z\"/>\n",
              "  </svg>\n",
              "      </button>\n",
              "      \n",
              "  <style>\n",
              "    .colab-df-container {\n",
              "      display:flex;\n",
              "      flex-wrap:wrap;\n",
              "      gap: 12px;\n",
              "    }\n",
              "\n",
              "    .colab-df-convert {\n",
              "      background-color: #E8F0FE;\n",
              "      border: none;\n",
              "      border-radius: 50%;\n",
              "      cursor: pointer;\n",
              "      display: none;\n",
              "      fill: #1967D2;\n",
              "      height: 32px;\n",
              "      padding: 0 0 0 0;\n",
              "      width: 32px;\n",
              "    }\n",
              "\n",
              "    .colab-df-convert:hover {\n",
              "      background-color: #E2EBFA;\n",
              "      box-shadow: 0px 1px 2px rgba(60, 64, 67, 0.3), 0px 1px 3px 1px rgba(60, 64, 67, 0.15);\n",
              "      fill: #174EA6;\n",
              "    }\n",
              "\n",
              "    [theme=dark] .colab-df-convert {\n",
              "      background-color: #3B4455;\n",
              "      fill: #D2E3FC;\n",
              "    }\n",
              "\n",
              "    [theme=dark] .colab-df-convert:hover {\n",
              "      background-color: #434B5C;\n",
              "      box-shadow: 0px 1px 3px 1px rgba(0, 0, 0, 0.15);\n",
              "      filter: drop-shadow(0px 1px 2px rgba(0, 0, 0, 0.3));\n",
              "      fill: #FFFFFF;\n",
              "    }\n",
              "  </style>\n",
              "\n",
              "      <script>\n",
              "        const buttonEl =\n",
              "          document.querySelector('#df-9b6e5c5e-b28d-45e0-b491-ca5709a3014b button.colab-df-convert');\n",
              "        buttonEl.style.display =\n",
              "          google.colab.kernel.accessAllowed ? 'block' : 'none';\n",
              "\n",
              "        async function convertToInteractive(key) {\n",
              "          const element = document.querySelector('#df-9b6e5c5e-b28d-45e0-b491-ca5709a3014b');\n",
              "          const dataTable =\n",
              "            await google.colab.kernel.invokeFunction('convertToInteractive',\n",
              "                                                     [key], {});\n",
              "          if (!dataTable) return;\n",
              "\n",
              "          const docLinkHtml = 'Like what you see? Visit the ' +\n",
              "            '<a target=\"_blank\" href=https://colab.research.google.com/notebooks/data_table.ipynb>data table notebook</a>'\n",
              "            + ' to learn more about interactive tables.';\n",
              "          element.innerHTML = '';\n",
              "          dataTable['output_type'] = 'display_data';\n",
              "          await google.colab.output.renderOutput(dataTable, element);\n",
              "          const docLink = document.createElement('div');\n",
              "          docLink.innerHTML = docLinkHtml;\n",
              "          element.appendChild(docLink);\n",
              "        }\n",
              "      </script>\n",
              "    </div>\n",
              "  </div>\n",
              "  "
            ]
          },
          "metadata": {},
          "execution_count": 36
        }
      ]
    }
  ]
}